{
 "cells": [
  {
   "cell_type": "markdown",
   "metadata": {},
   "source": [
    "# Time/Space Complexity - Intro to Data Structures (User Defined)\n",
    "\n",
    "### Topics to discuss today:\n",
    "\n",
    "<ul>\n",
    "    <li>Time and Space Complexity - What is it/How do we measure it</li>\n",
    "    <li>Asymptotic Analysis</li>\n",
    "    <li><strong>Data Structures</strong></li>\n",
    "    <li>Some of the popular sorting algorithms</li>\n",
    "</ul>\n",
    "\n",
    "### Data Structures to discuss:\n",
    "- Arrays\n",
    "- Stacks\n",
    "- Queues\n",
    "- Linked Lists\n",
    "    - Singly Linked Lists\n",
    "    - Traversing A Linked List\n",
    "    - Finding a node in a linked list\n",
    "    - Adding to a linked list\n",
    "- Binary Search Trees\n",
    "    - Construction\n",
    "    - Traversal\n"
   ]
  },
  {
   "cell_type": "markdown",
   "metadata": {},
   "source": [
    "## Time and Space Complexity\n",
    "\n",
    "#### What is it?\n",
    "\n",
    "Time and space complexity is the measure of how much time a given action(function) will take to solve a problem. In the same fashion, we determine how much a given data structure will need in terms of memory allocation. A problem can have multiple solutions and finding the optimal solution for the problem needs to be analyzed in time and space.\n",
    "\n",
    "#### How do we measure Time and Space Complexity?\n",
    "\n",
    "In order to measure time and space complexity we use Asymptotic analysis. The reason for this is because we need a way to measure different algorithms (functions) based on the size of their inputs in a mathmatical way. For example, we could have a function that is computed as f(n) and another that is g(n^2). All things around the function staying constant, the only thing that changes is the size of the input. Below is the chart that shows the different Asymptotic analysis formats. "
   ]
  },
  {
   "cell_type": "markdown",
   "metadata": {},
   "source": [
    "<table style=\"text-align:center;\" class=\"table table-bordered\">\n",
    "<tbody><tr>\n",
    "<td>constant</td>\n",
    "<td>−</td>\n",
    "<td>Ο(1)</td>\n",
    "</tr>\n",
    "<tr>\n",
    "<td>logarithmic</td>\n",
    "<td>−</td>\n",
    "<td>Ο(log n)</td>\n",
    "</tr>\n",
    "<tr>\n",
    "<td>linear</td>\n",
    "<td>−</td>\n",
    "<td>Ο(n)</td>\n",
    "</tr>\n",
    "<tr>\n",
    "<td>Linear Logarithmic</td>\n",
    "<td>−</td>\n",
    "<td>Ο(n log n)</td>\n",
    "</tr>\n",
    "<tr>\n",
    "<td>quadratic</td>\n",
    "<td>−</td>\n",
    "<td>Ο(n<sup>2</sup>)</td>\n",
    "</tr>\n",
    "<tr>\n",
    "<td>cubic</td>\n",
    "<td>−</td>\n",
    "<td>Ο(n<sup>3</sup>)</td>\n",
    "</tr>\n",
    "<tr>\n",
    "<td>polynomial</td>\n",
    "<td>−</td>\n",
    "<td>n<sup>Ο(1)</sup></td>\n",
    "</tr>\n",
    "<tr>\n",
    "<td>exponential</td>\n",
    "<td>−</td>\n",
    "<td>2<sup>Ο(n)</sup></td>\n",
    "</tr>\n",
    "</tbody></table>"
   ]
  },
  {
   "cell_type": "markdown",
   "metadata": {},
   "source": [
    "## Arrays"
   ]
  },
  {
   "cell_type": "markdown",
   "metadata": {},
   "source": [
    "In python we benefit from the dynamic array which means the block of memory will expand as needed for the given input to the array. In traditional arrays (depending on the type of operating system) we will usually store our inputs in 4 or 8 consecutive blocks of memory. Below is a diagram of how that looks under the hood:\n",
    "\n",
    "<img src=\"http://www.mathcs.emory.edu/~cheung/Courses/170/Syllabus/09/FIGS/array02x.gif\" style=\"height:250px; width:350px;\">"
   ]
  },
  {
   "cell_type": "markdown",
   "metadata": {},
   "source": [
    "## Which in python looks like this:"
   ]
  },
  {
   "cell_type": "code",
   "execution_count": 1,
   "metadata": {},
   "outputs": [
    {
     "name": "stdout",
     "output_type": "stream",
     "text": [
      "[23, 4, 6, 15, 5, 7]\n"
     ]
    }
   ],
   "source": [
    "array = [23, 4, 6, 15, 5, 7]\n",
    "print(array)"
   ]
  },
  {
   "cell_type": "markdown",
   "metadata": {},
   "source": [
    "### Let's take a look at some of the time and space analysis of arrays"
   ]
  },
  {
   "cell_type": "code",
   "execution_count": 2,
   "metadata": {},
   "outputs": [
    {
     "name": "stdout",
     "output_type": "stream",
     "text": [
      "23\n",
      "4\n",
      "6\n",
      "15\n",
      "5\n",
      "7\n"
     ]
    }
   ],
   "source": [
    "# index an array(List)\n",
    "\n",
    "indexing = array[1]\n",
    "\n",
    "# looping (searching) through an array\n",
    "for num in array:\n",
    "    print (num)\n",
    "    \n",
    "# copy an array\n",
    "copied_array = array[:]\n",
    "\n",
    "# setting an index in an array\n",
    "array[2] = 100"
   ]
  },
  {
   "cell_type": "markdown",
   "metadata": {},
   "source": [
    "## Stacks and Queues (Review)\n",
    "\n",
    "** Stacks ** as the name suggests is a data structure that allows for data to follow the Last In First Out priciple(LIFO). Think of a stack of pancakes for example. To get the first pancake you would  start with the top and go down.\n",
    "\n",
    "##### Searching through a stack will be Linear Time O(n) - Constant Space O(1)\n",
    "##### Selecting the last item will be done in Constant Time O(1) - Constant Space O(1)\n",
    "##### Adding to the stack should take Constant Time O(1) - Constant Space O(1)\n",
    "\n",
    "** Queues ** are similar but in this case follow the First In First Out principle(FIFO). Think of this as a line in a black friday sale. The first person camped out for the big screen tv is the first to get it.\n",
    "\n",
    "##### Searching through a queue will be Linear Time O(n) - Constant Space O(1)\n",
    "##### Selecting the first item will be done in Constant Time O(1) - Constant Space O(1)\n",
    "##### Adding to the queue should take Constant Time O(1) - Constant Space O(1)"
   ]
  },
  {
   "cell_type": "code",
   "execution_count": 3,
   "metadata": {},
   "outputs": [
    {
     "name": "stdout",
     "output_type": "stream",
     "text": [
      "deque([10, 20, 30, 40, 50])\n",
      "10\n",
      "20\n",
      "30\n",
      "40\n",
      "50\n",
      "Bob\n",
      "Mary\n",
      "Misty\n"
     ]
    }
   ],
   "source": [
    "from collections import deque \n",
    "\n",
    "stack = deque([10, 20, 30])\n",
    "\n",
    "stack.append(40)\n",
    "stack.append(50)\n",
    "\n",
    "print(stack)\n",
    "\n",
    "# last_item = stack.pop()\n",
    "# print(last_item)\n",
    "\n",
    "# Searching a Stack - Linear Time O(n) - Constant Space O(1)\n",
    "for i in stack:\n",
    "    print(i)\n",
    "    \n",
    "queue = []\n",
    "queue.append('Bob')\n",
    "queue.append('Mary')\n",
    "queue.append('Misty')\n",
    "\n",
    "# first_item = queue.pop(0)\n",
    "# print(first_item)\n",
    "\n",
    "for i in queue:\n",
    "    print(i)"
   ]
  },
  {
   "cell_type": "markdown",
   "metadata": {},
   "source": [
    "## Linked List (Data Structure)\n",
    "\n",
    "A linked list is created by using the node class. We create a Node object and create another class to use this node object. We pass the appropriate values thorugh the node object to point the to the next data elements.\n",
    "\n",
    "There are some advantages and disadvantages with this data structure. **Advantages** Linked Lists can save memory because they can be flexibile with memory management which saves memory. **Disadvantages** Finding or adding to the list requires traversing the entire list.\n",
    "\n",
    "All the nodes live at a different point in memory (saves memory)\n"
   ]
  },
  {
   "cell_type": "code",
   "execution_count": 4,
   "metadata": {},
   "outputs": [
    {
     "name": "stdout",
     "output_type": "stream",
     "text": [
      "Mon\n",
      "Tues\n",
      "Wed\n",
      "None\n"
     ]
    }
   ],
   "source": [
    "# We pass the appropriate values thorugh the node object to point the to the next data elements\n",
    "\n",
    "class LinkedListNode():\n",
    "    def __init__(self,value):\n",
    "        self.value = value\n",
    "        self.next = None\n",
    "        \n",
    "    def traverseList(self):\n",
    "        node = self\n",
    "        while node != None:\n",
    "            print(node.value)\n",
    "            node = node.next\n",
    "            \n",
    "node1 = LinkedListNode('Mon')\n",
    "node2 = LinkedListNode('Tues')\n",
    "node3 = LinkedListNode('Wed')\n",
    "\n",
    "node1.next = node2\n",
    "node2.next = node3\n",
    "\n",
    "print(node1.traverseList())"
   ]
  },
  {
   "cell_type": "code",
   "execution_count": 5,
   "metadata": {},
   "outputs": [
    {
     "data": {
      "text/plain": [
       "<Node | Wed >"
      ]
     },
     "execution_count": 5,
     "metadata": {},
     "output_type": "execute_result"
    }
   ],
   "source": [
    "# Complete Implementation of Linked List \n",
    "\n",
    "# 2 classes - Linked List Class and Node Class \n",
    "\n",
    "class Node:\n",
    "    def __init__(self, value):\n",
    "        self.value = value\n",
    "        self.next = None\n",
    "        \n",
    "    def __str__(self):\n",
    "        return self.value \n",
    "    \n",
    "    def __repr__(self):\n",
    "        return f'<Node | {self.value} >'\n",
    "        \n",
    "# Push on adds to the front of the linked list (its next points to the first node and the head points to its next)       \n",
    "class LinkedList:\n",
    "    def __init__(self):\n",
    "        # head is pointing to the first node of the Linked List\n",
    "        self.head = None\n",
    "        \n",
    "    # add a new value to the front of our Linked List\n",
    "    def push_on(self, new_value):\n",
    "        new_node = Node(new_value)\n",
    "        \n",
    "        # set the new node's next to the current first node\n",
    "        new_node.next = self.head\n",
    "        self.head = new_node\n",
    "        \n",
    "    # Add a new value to the end of Linked List\n",
    "    def append(self, new_value):\n",
    "        new_node = Node(new_value)\n",
    "        \n",
    "        # Check if the Linked List IS empty\n",
    "        if self.head is None:\n",
    "            # set the head to our new node\n",
    "            self.head = new_node \n",
    "        \n",
    "# Pushes through list until .next(ie.head) == None \n",
    "        # If item in Linked List NOT empty \n",
    "        else:\n",
    "            # traverse to the end \n",
    "            last = self.head \n",
    "            \n",
    "            while last.next:\n",
    "                last = last.next\n",
    "                \n",
    "            last.next = new_node \n",
    "            \n",
    "    def insert_after(self, prev_node, new_value):\n",
    "        # Chec if the previous node even exists \n",
    "        if prev_node is None:\n",
    "            return \n",
    "        \n",
    "        new_node = Node(new_value)\n",
    "        \n",
    "        # point the new node's next to be the previous node's (soon-to-be) former next\n",
    "        new_node.next = prev_node.next \n",
    "        \n",
    "        #point the previous nnode to the new node \n",
    "        prev_node.next = new_node\n",
    "        \n",
    "    def get(self, value_to_get):\n",
    "        # start with the first node \n",
    "        check = self.head \n",
    "        \n",
    "        # While check is a node \n",
    "        while check is not None:\n",
    "            \n",
    "            # if the value of the check node is equal to the value we are searching \n",
    "            if check.value == value_to_get:\n",
    "                # return the node \n",
    "                return check \n",
    "            # if not, move on to the next node and try again \n",
    "            check = check.next \n",
    "        # Once check is None, we know that value_to_get is not in Linked List, return None\n",
    "        return None \n",
    "    \n",
    "    def traverse_list(self):\n",
    "        node = self.head \n",
    "        while node:\n",
    "            print(node)\n",
    "            node.next\n",
    "        \n",
    "        \n",
    "weekdays = LinkedList()\n",
    "weekdays.push_on('Wed')\n",
    "weekdays.push_on('Mon')\n",
    "weekdays.append('Thurs')\n",
    "weekdays.append('Friday')\n",
    "weekdays.insert_after(weekdays.head, 'Tues')\n",
    "weekdays.get('Wed')\n",
    "\n",
    "\n"
   ]
  },
  {
   "cell_type": "markdown",
   "metadata": {},
   "source": [
    "## Binary Search Trees"
   ]
  },
  {
   "cell_type": "code",
   "execution_count": 6,
   "metadata": {},
   "outputs": [
    {
     "ename": "NameError",
     "evalue": "name 'BTSex' is not defined",
     "output_type": "error",
     "traceback": [
      "\u001b[0;31m---------------------------------------------------------------------------\u001b[0m",
      "\u001b[0;31mNameError\u001b[0m                                 Traceback (most recent call last)",
      "\u001b[0;32m/var/folders/ds/xn_53jdj5vg5w3bp9qc9kb9w0000gn/T/ipykernel_58949/1982603612.py\u001b[0m in \u001b[0;36m<module>\u001b[0;34m\u001b[0m\n\u001b[1;32m     19\u001b[0m \u001b[0;34m\u001b[0m\u001b[0m\n\u001b[1;32m     20\u001b[0m \u001b[0;34m\u001b[0m\u001b[0m\n\u001b[0;32m---> 21\u001b[0;31m \u001b[0mmy_tree\u001b[0m \u001b[0;34m=\u001b[0m \u001b[0mBTSex\u001b[0m\u001b[0;34m(\u001b[0m\u001b[0;36m50\u001b[0m\u001b[0;34m)\u001b[0m\u001b[0;34m\u001b[0m\u001b[0;34m\u001b[0m\u001b[0m\n\u001b[0m\u001b[1;32m     22\u001b[0m \u001b[0mmy_tree\u001b[0m\u001b[0;34m.\u001b[0m\u001b[0minsert\u001b[0m\u001b[0;34m(\u001b[0m\u001b[0;36m25\u001b[0m\u001b[0;34m)\u001b[0m\u001b[0;34m\u001b[0m\u001b[0;34m\u001b[0m\u001b[0m\n\u001b[1;32m     23\u001b[0m \u001b[0mmy_tree\u001b[0m\u001b[0;34m.\u001b[0m\u001b[0minsert\u001b[0m\u001b[0;34m(\u001b[0m\u001b[0;36m35\u001b[0m\u001b[0;34m)\u001b[0m\u001b[0;34m\u001b[0m\u001b[0;34m\u001b[0m\u001b[0m\n",
      "\u001b[0;31mNameError\u001b[0m: name 'BTSex' is not defined"
     ]
    }
   ],
   "source": [
    "class BSTex:\n",
    "    \n",
    "    def __init__ (self, value):\n",
    "        self.value = value \n",
    "        self.right = None\n",
    "        self.left = None\n",
    "        \n",
    "    def insert(self, new_value):\n",
    "        if new_value < self.value:\n",
    "            if self.left is None:\n",
    "                self.left = BTS(new_value)\n",
    "            else: \n",
    "                self.left.insert(new_value)\n",
    "        else:\n",
    "            if self.right is None:\n",
    "                self.right = BTS(new_value)\n",
    "            else:\n",
    "                self.right.insert(new_value)\n",
    "                \n",
    "                \n",
    "my_tree = BTSex(50)\n",
    "my_tree.insert(25)\n",
    "my_tree.insert(35)\n",
    "my_tree.insert(10)\n",
    "my_tree.insert(75)"
   ]
  },
  {
   "cell_type": "code",
   "execution_count": null,
   "metadata": {},
   "outputs": [],
   "source": [
    "class BST:\n",
    "    \n",
    "    def __init__ (self, value):\n",
    "        self.value = value \n",
    "        self.right = None\n",
    "        self.left = None\n",
    "        \n",
    "    def insert(self, new_value):\n",
    "        if new_value < self.value:\n",
    "            if self.left is None:\n",
    "                self.left = BTS(new_value)\n",
    "            else: \n",
    "                self.left.insert(new_value)\n",
    "        else:\n",
    "            if self.right is None:\n",
    "                self.right = BTS(new_value)\n",
    "            else:\n",
    "                self.right.insert(new_value)\n",
    "                \n",
    "    def contains(self,value):\n",
    "        \"\"\"\n",
    "            This method accepts an int for its value\n",
    "            The value parameter is what we are looking for inside of the BST structure\n",
    "        \"\"\"\n",
    "        if value < self.value: # if passed value is less than current value\n",
    "            if self.left is None:\n",
    "                return False\n",
    "            else:\n",
    "                return self.left.contains(value)\n",
    "        elif value > self.value:\n",
    "            if self.right is None:\n",
    "                return False\n",
    "            else:\n",
    "                return self.right.contains(value)\n",
    "        else:\n",
    "            return True\n",
    "\n",
    "    def getMinValue(self):\n",
    "        if self.left is None:\n",
    "            return self.value\n",
    "        else:\n",
    "            return self.left.getMinValue()\n",
    "    \n",
    "    def getMaxValue(self):\n",
    "        if self.right is None:\n",
    "            return self.value\n",
    "        else:\n",
    "            return self.right.getMaxValue()\n",
    "        \n",
    "    def remove(self,value,parent=None):\n",
    "        if value < self.value:\n",
    "            if self.left is not None:\n",
    "                self.left.remove(value,self)\n",
    "        elif value > self.value:\n",
    "            if self.right is not None:\n",
    "                self.right.remove(value,self)\n",
    "        else:\n",
    "            if self.left is not None and self.right is not None:\n",
    "                self.value = self.right.getMinValue()\n",
    "                self.right.remove(self.value,self)\n",
    "            elif parent is None:\n",
    "                if self.left is not None:\n",
    "                    self.value = self.left.value\n",
    "                    self.right = self.left.right\n",
    "                    self.left = self.left.left\n",
    "                elif self.right is not None:\n",
    "                    self.value = self.right.value\n",
    "                    self.left = self.right.left\n",
    "                    self.right = self.right.right\n",
    "                else:\n",
    "                    self.value = None\n",
    "            elif parent.left == self:\n",
    "                parent.left = self.left if self.left is not None else self.right\n",
    "            elif parent.right == self:\n",
    "                parent.right = self.left if self.left is not None else self.right\n",
    "        return self\n",
    "            \n",
    "                "
   ]
  },
  {
   "cell_type": "code",
   "execution_count": null,
   "metadata": {},
   "outputs": [],
   "source": [
    "my_tree = BST(50)\n",
    "my_tree.insert(25)\n",
    "my_tree.insert(35)\n",
    "my_tree.insert(10)\n",
    "my_tree.insert(75)\n",
    "\n",
    "print(my_tree.getMaxValue())\n",
    "print(my_tree.contains(44))\n",
    "my_tree.remove(40)\n",
    "print(my_tree.contains(40))"
   ]
  },
  {
   "cell_type": "markdown",
   "metadata": {},
   "source": [
    "# Homework"
   ]
  },
  {
   "cell_type": "markdown",
   "metadata": {},
   "source": [
    "#### Problem 1: Linked Lists\n",
    "\n",
    "Using the above examples as a guide, create your own interpretation of the a Linked List class. You can not use the code above exactly, but again it can be used as a guide. This problem requires you to think about how a linked list works and create one using your own logic.\n",
    "\n",
    "*Remember* A Linked List is a list of Nodes that point to the next node in the chain. The first Node starts out as Empty(None) and each node after points to the next.\n",
    "\n",
    "Your Linked List should have a traverse method and have the ability to add a new node"
   ]
  },
  {
   "cell_type": "code",
   "execution_count": 25,
   "metadata": {},
   "outputs": [
    {
     "name": "stdout",
     "output_type": "stream",
     "text": [
      "A node with the value G does not exist. Cannot insert H into the list\n"
     ]
    }
   ],
   "source": [
    "https://elemental-flat-e5b.notion.site/Linked-Lists-d55be6f761014f7d90193996542d7dfb\n",
    "Notion Link\n",
    "\n",
    "class Node:\n",
    "    def __init__ (self, value):\n",
    "        self.value = value\n",
    "        self.next = None\n",
    "        \n",
    "    def __str__(self):\n",
    "        return self.value\n",
    "    \n",
    "    def __repr__(self):\n",
    "        return f'Node | {self.value} >'\n",
    "    \n",
    "    \n",
    "class LinkList:\n",
    "    \n",
    "    def __init__(self):\n",
    "        self.head = None\n",
    "        \n",
    "    # Adds node to the front and points head to the new_node (at the front)    \n",
    "    def add_to_front(self, new_value): # initialize the node and set the head of the linked list pointing to it \n",
    "        new_node = Node(new_value)\n",
    "        new_node.next = self.head\n",
    "        self.head = new_node\n",
    "        \n",
    "        \n",
    "    # Add node to the end and ajust last node.next = new_node\n",
    "    def add_to_back(self, new_value):\n",
    "        new_node = Node(new_value)\n",
    "        \n",
    "        # Check to see if the list is EMPTY\n",
    "        if self.head is None:\n",
    "            self.head = new_node \n",
    "\n",
    "        # If item in Linked List NOT empty \n",
    "        else: # traverse to the end \n",
    "            last = self.head       # head is currently pointing to the 1st item in our list\n",
    "            \n",
    "            while last.next:       # since the head value is the node instance, we can use the node.next to traverse\n",
    "                last = last.next   # since node.next points to the next node, we set last = next node \n",
    "                \n",
    "            last.next = new_node   # connect the new_node to the node.next before it which last is currently pointing to\n",
    "        \n",
    "    def insert_after(self, prev_node_value, new_value):\n",
    "        prev_node = None     # to avoid referencing before assignment \n",
    "        # Find the previous node \n",
    "        check = self.head \n",
    "        while check is not None:\n",
    "            if check.value == prev_node_value:\n",
    "                prev_node = check\n",
    "            check = check.next \n",
    "        if prev_node is None: # if the node does not exist \n",
    "            print(f\"A node with the value {prev_node_value} does not exist. Cannot insert {new_value} into the list\")\n",
    "            return None # end the function \n",
    "        \n",
    "        \n",
    "        # Create the new_node instance \n",
    "        new_node = Node(new_value)\n",
    "\n",
    "        # point the new_node.next to be the previous_node.next\n",
    "            # this inherits the next value of the prev_node meaning...\n",
    "            # if the previous_node.next was None, the new_node is now at the ned\n",
    "            # else the new_node now points to the node that the prev_node used to point to\n",
    "        new_node.next = prev_node.next \n",
    "\n",
    "        # point the previous node to the new node \n",
    "            # this connects the nodes (otherwise there is no link)\n",
    "        prev_node.next = new_node\n",
    "    \n",
    "    \n",
    "    def traverse_list(self):\n",
    "        node = self.head      # self.head points to first node in list \n",
    "        while node:           # while there are nodes in the list\n",
    "            print(node)       # print the node \n",
    "            node = node.next  # set node = node.next which is the next node in the list      \n",
    "    \n",
    "    \n",
    "    \n",
    "lists = LinkList()\n",
    "lists.add_to_front(\"C\")\n",
    "lists.add_to_front(\"A\")  \n",
    "lists.add_to_back(\"D\")\n",
    "lists.insert_after(\"G\", \"H\")\n",
    "lists.insert_after(\"A\", \"B\")\n",
    "    \n",
    "    "
   ]
  },
  {
   "cell_type": "code",
   "execution_count": 24,
   "metadata": {},
   "outputs": [
    {
     "name": "stdout",
     "output_type": "stream",
     "text": [
      "A\n",
      "B\n",
      "C\n",
      "D\n"
     ]
    }
   ],
   "source": [
    "lists.traverse_list()"
   ]
  },
  {
   "cell_type": "markdown",
   "metadata": {},
   "source": [
    "#### Problem 2: Binary Search Tree\n",
    "\n",
    "Using the above examples as a guide, create your own interpretation of the a Binary Search Tree class. You can not use the code above exactly, but again it can be used as a guide. This problem requires you to think about how a Binary Search Tree works and create one using your own logic.\n",
    "\n",
    "*Remember* Binary Search Trees start with a head node and each node to the left of that will be smaller, each node to the right of it will be greater. The far left node should be the lowest number(if one exists) that is available. The far right node (if one exists) should be the greatest number"
   ]
  },
  {
   "cell_type": "code",
   "execution_count": null,
   "metadata": {},
   "outputs": [],
   "source": []
  }
 ],
 "metadata": {
  "kernelspec": {
   "display_name": "Python 3 (ipykernel)",
   "language": "python",
   "name": "python3"
  },
  "language_info": {
   "codemirror_mode": {
    "name": "ipython",
    "version": 3
   },
   "file_extension": ".py",
   "mimetype": "text/x-python",
   "name": "python",
   "nbconvert_exporter": "python",
   "pygments_lexer": "ipython3",
   "version": "3.9.7"
  }
 },
 "nbformat": 4,
 "nbformat_minor": 2
}
